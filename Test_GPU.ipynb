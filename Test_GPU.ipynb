{
  "nbformat": 4,
  "nbformat_minor": 0,
  "metadata": {
    "colab": {
      "provenance": [],
      "gpuType": "T4",
      "authorship_tag": "ABX9TyOp+10MxCl99FRmgNJ++WHH",
      "include_colab_link": true
    },
    "kernelspec": {
      "name": "python3",
      "display_name": "Python 3"
    },
    "language_info": {
      "name": "python"
    },
    "accelerator": "GPU"
  },
  "cells": [
    {
      "cell_type": "markdown",
      "metadata": {
        "id": "view-in-github",
        "colab_type": "text"
      },
      "source": [
        "<a href=\"https://colab.research.google.com/github/VictorSanchezG/BreathHoldingProtocolStenosePatients/blob/main/Test_GPU.ipynb\" target=\"_parent\"><img src=\"https://colab.research.google.com/assets/colab-badge.svg\" alt=\"Open In Colab\"/></a>"
      ]
    },
    {
      "cell_type": "code",
      "execution_count": null,
      "metadata": {
        "colab": {
          "base_uri": "https://localhost:8080/"
        },
        "id": "5vv6jpn-nTLM",
        "outputId": "13aac9c9-b399-4b77-828d-3114a153490c"
      },
      "outputs": [
        {
          "output_type": "stream",
          "name": "stdout",
          "text": [
            "✅ GPU en uso: /device:GPU:0\n"
          ]
        }
      ],
      "source": [
        "import tensorflow as tf\n",
        "\n",
        "# Muestra el dispositivo que está usando TensorFlow\n",
        "device_name = tf.test.gpu_device_name()\n",
        "if device_name:\n",
        "    print(f\"✅ GPU en uso: {device_name}\")\n",
        "else:\n",
        "    print(\"⚠️ No se detectó GPU. Usando CPU.\")\n"
      ]
    },
    {
      "cell_type": "code",
      "source": [
        "import time\n",
        "\n",
        "# Crea una matriz grande para multiplicación\n",
        "matrix_size = 1000\n",
        "A = tf.random.normal([matrix_size, matrix_size])\n",
        "B = tf.random.normal([matrix_size, matrix_size])\n",
        "\n",
        "# Ejecuta en CPU\n",
        "with tf.device('/CPU:0'):\n",
        "    start_time = time.time()\n",
        "    C_cpu = tf.matmul(A, B)\n",
        "    cpu_time = time.time() - start_time\n",
        "    print(f\"⏱ Tiempo en CPU: {cpu_time:.4f} segundos\")\n",
        "\n",
        "# Ejecuta en GPU (si está disponible)\n",
        "if tf.config.list_physical_devices('GPU'):\n",
        "    with tf.device('/GPU:0'):\n",
        "        start_time = time.time()\n",
        "        C_gpu = tf.matmul(A, B)\n",
        "        gpu_time = time.time() - start_time\n",
        "        print(f\"⚡ Tiempo en GPU: {gpu_time:.4f} segundos\")\n",
        "else:\n",
        "    print(\"⚠️ No se puede ejecutar en GPU: no está disponible.\")\n"
      ],
      "metadata": {
        "colab": {
          "base_uri": "https://localhost:8080/"
        },
        "id": "PtKLkU_ooUuF",
        "outputId": "0163839b-869d-49d0-ef17-f052f2cf8266"
      },
      "execution_count": null,
      "outputs": [
        {
          "output_type": "stream",
          "name": "stdout",
          "text": [
            "⏱ Tiempo en CPU: 0.1537 segundos\n",
            "⚡ Tiempo en GPU: 0.1256 segundos\n"
          ]
        }
      ]
    },
    {
      "cell_type": "markdown",
      "source": [
        "Papalelismo de datos"
      ],
      "metadata": {
        "id": "xrosJVf1p3rI"
      }
    },
    {
      "cell_type": "code",
      "source": [
        "# Instalar joblib si no está disponible\n",
        "!pip install joblib\n",
        "\n",
        "# Importar las librerías necesarias\n",
        "import numpy as np\n",
        "from joblib import Parallel, delayed\n",
        "import time\n"
      ],
      "metadata": {
        "colab": {
          "base_uri": "https://localhost:8080/"
        },
        "id": "hYVbMSeKp9wK",
        "outputId": "d2960968-3d09-47e0-97cf-5fd6f57de9f0"
      },
      "execution_count": 1,
      "outputs": [
        {
          "output_type": "stream",
          "name": "stdout",
          "text": [
            "Requirement already satisfied: joblib in /usr/local/lib/python3.11/dist-packages (1.5.1)\n"
          ]
        }
      ]
    },
    {
      "cell_type": "markdown",
      "source": [],
      "metadata": {
        "id": "-h9lA0RmqD4b"
      }
    }
  ]
}